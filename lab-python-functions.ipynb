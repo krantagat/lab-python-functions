{
 "cells": [
  {
   "cell_type": "markdown",
   "id": "25d7736c-ba17-4aff-b6bb-66eba20fbf4e",
   "metadata": {},
   "source": [
    "# Lab | Functions"
   ]
  },
  {
   "cell_type": "markdown",
   "id": "0c581062-8967-4d93-b06e-62833222f930",
   "metadata": {
    "tags": []
   },
   "source": [
    "## Exercise: Managing Customer Orders with Functions\n",
    "\n",
    "In the previous exercise, you improved the code for managing customer orders by using loops and flow control. Now, let's take it a step further and refactor the code by introducing functions.\n",
    "\n",
    "Follow the steps below to complete the exercise:\n",
    "\n",
    "1. Define a function named `initialize_inventory` that takes `products` as a parameter. Inside the function, implement the code for initializing the inventory dictionary using a loop and user input.\n",
    "\n",
    "2. Define a function named `get_customer_orders` that takes no parameters. Inside the function, implement the code for prompting the user to enter the product names using a loop. The function should return the `customer_orders` set.\n",
    "\n",
    "3. Define a function named `update_inventory` that takes `customer_orders` and `inventory` as parameters. Inside the function, implement the code for updating the inventory dictionary based on the customer orders.\n",
    "\n",
    "4. Define a function named `calculate_order_statistics` that takes `customer_orders` and `products` as parameters. Inside the function, implement the code for calculating the order statistics (total products ordered, and percentage of unique products ordered). The function should return these values.\n",
    "\n",
    "5. Define a function named `print_order_statistics` that takes `order_statistics` as a parameter. Inside the function, implement the code for printing the order statistics.\n",
    "\n",
    "6. Define a function named `print_updated_inventory` that takes `inventory` as a parameter. Inside the function, implement the code for printing the updated inventory.\n",
    "\n",
    "7. Call the functions in the appropriate sequence to execute the program and manage customer orders.\n",
    "\n",
    "Hints for functions:\n",
    "\n",
    "- Consider the input parameters required for each function and their return values.\n",
    "- Utilize function parameters and return values to transfer data between functions.\n",
    "- Test your functions individually to ensure they work correctly.\n",
    "\n",
    "\n"
   ]
  },
  {
   "cell_type": "code",
   "execution_count": 26,
   "id": "f6966044",
   "metadata": {},
   "outputs": [],
   "source": [
    "# ## Exercise: Managing Customer Orders with Functions\n",
    "\n",
    "# In the previous exercise, you improved the code for managing customer orders by using loops and flow control. Now, let's take it a step further and refactor the code by introducing functions.\n",
    "\n",
    "# Follow the steps below to complete the exercise:\n",
    "\n",
    "# 1. Define a function named `initialize_inventory` that takes `products` as a parameter. Inside the function, implement the code for initializing the inventory dictionary using a loop and user input.\n",
    "products = [\"t-shirt\", \"mug\", \"hat\", \"book\", \"keychain\"]\n",
    "\n",
    "\n",
    "\n",
    "def initialize_inventory():\n",
    "    inventory = {}\n",
    "    for product in products:\n",
    "        inventory[product] = int(input(f'What is the inventory of {product}?'))\n",
    "    return inventory\n",
    "\n",
    "\n",
    "\n",
    "# 2. Define a function named `get_customer_orders` that takes no parameters. Inside the function, implement the code for prompting the user to enter the product names using a loop. The function should return the `customer_orders` set.\n",
    "\n",
    "    \n",
    "def get_customer_orders():\n",
    "    customer_orders = set()\n",
    "    add_product = \"yes\"\n",
    "    while add_product == \"yes\":\n",
    "        customer_input = input('What do you want to order?')\n",
    "        if customer_input in products:\n",
    "            customer_orders.add(customer_input) \n",
    "            add_product = input('Do want to add another product? (yes/no)')\n",
    "\n",
    "        else:\n",
    "            print(\"This product doesn't exist.\")\n",
    "    return(customer_orders)\n",
    "\n",
    "\n",
    "# 3. Define a function named `update_inventory` that takes ****`customer_orders` and `inventory` as parameters****. Inside the function, implement the code for updating the inventory dictionary based on the customer orders.\n",
    "# \n",
    "def update_inventory(customer_orders,inventory):\n",
    "    for update_product in inventory:\n",
    "        if update_product in customer_orders:\n",
    "            inventory[update_product] -= 1\n",
    "            return inventory\n",
    "\n",
    "\n",
    "\n",
    "# 4. Define a function named `calculate_order_statistics` that takes `customer_orders` and `products` as parameters. Inside the function, implement the code for calculating the order statistics (total products ordered, and percentage of unique products ordered). The function should return these values.\n",
    "        \n",
    "def calculate_order_statistics(customer_orders,inventory):\n",
    "        total_products_ordered = len(customer_orders)\n",
    "        total_inventory = sum(inventory.values())\n",
    "        percentage_ordered = (total_products_ordered/total_inventory)*100\n",
    "        return percentage_ordered\n",
    "\n",
    "\n",
    "# 5. Define a function named `print_order_statistics` that takes `order_statistics` as a parameter. Inside the function, implement the code for printing the order statistics.\n",
    "\n",
    "# 6. Define a function named `print_updated_inventory` that takes `inventory` as a parameter. Inside the function, implement the code for printing the updated inventory.\n",
    "\n",
    "# 7. Call the functions in the appropriate sequence to execute the program and manage customer orders.\n",
    "\n",
    "# Hints for functions:\n",
    "\n",
    "# - Consider the input parameters required for each function and their return values.\n",
    "# - Utilize function parameters and return values to transfer data between functions.\n",
    "# - Test your functions individually to ensure they work correctly.\n",
    "\n",
    "\n"
   ]
  },
  {
   "cell_type": "code",
   "execution_count": 27,
   "id": "aeb76d5d",
   "metadata": {},
   "outputs": [
    {
     "data": {
      "text/plain": [
       "'percentage_ordered%'"
      ]
     },
     "execution_count": 27,
     "metadata": {},
     "output_type": "execute_result"
    }
   ],
   "source": [
    "# products = [\"t-shirt\", \"mug\", \"hat\", \"book\", \"keychain\"]\n",
    "\n",
    "inventory = initialize_inventory()\n",
    "customer_orders = get_customer_orders()\n",
    "update_inventory(customer_orders,inventory)\n",
    "calculate_order_statistics(customer_orders,inventory)\n",
    "\n",
    "# update_inventory(get_customer_orders(),initialize_inventory())\n"
   ]
  },
  {
   "cell_type": "markdown",
   "id": "d78babc4",
   "metadata": {},
   "source": []
  }
 ],
 "metadata": {
  "kernelspec": {
   "display_name": "Python 3 (ipykernel)",
   "language": "python",
   "name": "python3"
  },
  "language_info": {
   "codemirror_mode": {
    "name": "ipython",
    "version": 3
   },
   "file_extension": ".py",
   "mimetype": "text/x-python",
   "name": "python",
   "nbconvert_exporter": "python",
   "pygments_lexer": "ipython3",
   "version": "3.11.5"
  }
 },
 "nbformat": 4,
 "nbformat_minor": 5
}
